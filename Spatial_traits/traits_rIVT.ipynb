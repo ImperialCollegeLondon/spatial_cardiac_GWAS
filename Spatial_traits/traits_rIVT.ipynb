{
 "cells": [
  {
   "cell_type": "code",
   "execution_count": 1,
   "metadata": {},
   "outputs": [],
   "source": [
    "import pandas as pd\n",
    "import numpy as np\n",
    "\n",
    "import scipy.stats as stats\n",
    "import statsmodels.api as sm\n",
    "import statsmodels.formula.api as smf\n",
    "\n",
    "import matplotlib.pylab as plt\n",
    "import seaborn as sns\n",
    "# set seaborn style\n",
    "sns.set_style(\"whitegrid\")\n",
    "\n",
    "from config import traits_dictionary\n",
    "traits2names = {v: k for k, v in traits_dictionary.items()}\n",
    "from transforms import rank_INT\n",
    "\n",
    "import forestplot as fp\n",
    "# https://dev.to/lsys/making-coefficient-plots-in-python-using-forestplot-7i7\n",
    "from scipy.stats import pearsonr"
   ]
  },
  {
   "cell_type": "code",
   "execution_count": 2,
   "metadata": {},
   "outputs": [
    {
     "name": "stdout",
     "output_type": "stream",
     "text": [
      "(40186, 130) (40058, 130)\n"
     ]
    }
   ],
   "source": [
    "# abnormal maxWT set to NA\n",
    "traits_cov = pd.read_csv('data/phenotypes_48k_99CMR_13other_cov.csv', index_col=0)\n",
    "traits_cov_health = pd.read_csv('data/phenotypes_48k_99CMR_13other_cov_noCM.csv', index_col=0)\n",
    "print(traits_cov.shape, traits_cov_health.shape)"
   ]
  },
  {
   "attachments": {},
   "cell_type": "markdown",
   "metadata": {},
   "source": [
    "# MAKE rIVT"
   ]
  },
  {
   "cell_type": "code",
   "execution_count": 9,
   "metadata": {},
   "outputs": [
    {
     "name": "stdout",
     "output_type": "stream",
     "text": [
      "(40186, 73)\n"
     ]
    }
   ],
   "source": [
    "y_var = 'Sex,age_at_MRI,Weight_at_MRI,Height,BMI,BSA,SBP_at_MRI,DBP_at_MRI,MAP_at_MRI'.split(',') # these are not transformed\n",
    "traits_cov_rIVT = traits_cov[y_var].copy()\n",
    "\n",
    "x_var = '{0:}_AHA_1,{0:}_AHA_2,{0:}_AHA_3,{0:}_AHA_4,{0:}_AHA_5,{0:}_AHA_6,{0:}_AHA_7,{0:}_AHA_8,{0:}_AHA_9,{0:}_AHA_10,{0:}_AHA_11,{0:}_AHA_12,{0:}_AHA_13,{0:}_AHA_14,{0:}_AHA_15,{0:}_AHA_16'.format('WT').split(',')\n",
    "for trait in x_var:\n",
    "    adjusted = rank_INT(traits_cov[trait])\n",
    "    traits_cov_rIVT[trait] = adjusted\n",
    "\n",
    "x_var = '{0:}_AHA_1,{0:}_AHA_2,{0:}_AHA_3,{0:}_AHA_4,{0:}_AHA_5,{0:}_AHA_6,{0:}_AHA_7,{0:}_AHA_8,{0:}_AHA_9,{0:}_AHA_10,{0:}_AHA_11,{0:}_AHA_12,{0:}_AHA_13,{0:}_AHA_14,{0:}_AHA_15,{0:}_AHA_16'.format('WT_Max').split(',')\n",
    "for trait in x_var:\n",
    "    adjusted = rank_INT(traits_cov[trait])\n",
    "    traits_cov_rIVT[trait] = adjusted\n",
    "\n",
    "x_var = '{0:}_AHA_1,{0:}_AHA_2,{0:}_AHA_3,{0:}_AHA_4,{0:}_AHA_5,{0:}_AHA_6,{0:}_AHA_7,{0:}_AHA_8,{0:}_AHA_9,{0:}_AHA_10,{0:}_AHA_11,{0:}_AHA_12,{0:}_AHA_13,{0:}_AHA_14,{0:}_AHA_15,{0:}_AHA_16'.format('Ecc').split(',')\n",
    "for trait in x_var:\n",
    "    adjusted = rank_INT(traits_cov[trait])\n",
    "    traits_cov_rIVT[trait] = adjusted\n",
    "\n",
    "x_var = '{0:}_AHA_1,{0:}_AHA_2,{0:}_AHA_3,{0:}_AHA_4,{0:}_AHA_5,{0:}_AHA_6,{0:}_AHA_7,{0:}_AHA_8,{0:}_AHA_9,{0:}_AHA_10,{0:}_AHA_11,{0:}_AHA_12,{0:}_AHA_13,{0:}_AHA_14,{0:}_AHA_15,{0:}_AHA_16'.format('Err').split(',')\n",
    "for trait in x_var:\n",
    "    adjusted = rank_INT(traits_cov[trait])\n",
    "    traits_cov_rIVT[trait] = adjusted\n",
    "\n",
    "print(traits_cov_rIVT.shape)\n",
    "traits_cov_rIVT.to_csv('phenotypes_48k_99CMR_13other_rIVT.csv')"
   ]
  }
 ],
 "metadata": {
  "kernelspec": {
   "display_name": "base",
   "language": "python",
   "name": "python3"
  },
  "language_info": {
   "codemirror_mode": {
    "name": "ipython",
    "version": 3
   },
   "file_extension": ".py",
   "mimetype": "text/x-python",
   "name": "python",
   "nbconvert_exporter": "python",
   "pygments_lexer": "ipython3",
   "version": "3.9.12"
  },
  "orig_nbformat": 4,
  "vscode": {
   "interpreter": {
    "hash": "eeb93377fae00ef4678b700d776577d098208a1948e767975eeaf3bdaef99313"
   }
  }
 },
 "nbformat": 4,
 "nbformat_minor": 2
}
